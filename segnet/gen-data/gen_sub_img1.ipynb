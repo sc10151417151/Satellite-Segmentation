{
 "cells": [
  {
   "cell_type": "code",
   "execution_count": 1,
   "metadata": {},
   "outputs": [],
   "source": [
    "import gdal\n",
    "import numpy as np\n",
    "import cv2\n",
    "from tqdm import tqdm\n",
    "def gen_sub_img1(size=512, stride=128):\n",
    "    image_size=size\n",
    "    IMG_SET=['2017','2019','2019-3']\n",
    "    predir=r'D:\\Python\\seg-data\\data_MB/'\n",
    "    g_count = 0\n",
    "    for n in tqdm(range(len(IMG_SET))):\n",
    "        tif_img = gdal.Open(predir+IMG_SET[n]+'.tif')\n",
    "        label_img=cv2.imread(predir+IMG_SET[n]+'.png',cv2.IMREAD_GRAYSCALE)\n",
    "        tif_w = tif_img.RasterXSize #栅格矩阵的列数\n",
    "        tif_h = tif_img.RasterYSize\n",
    "        tif_data=tif_img.ReadAsArray(0,0,tif_w,tif_h)\n",
    "        tif_d=tif_data.shape[0]\n",
    "        tif_data=np.array(tif_data, dtype=float)\n",
    "        image=cv2.merge(tif_data)\n",
    "        h,w,_ = image.shape\n",
    "        padding_h = ((h-stride)//(size-stride )+ 1) * (size-stride)+stride\n",
    "        padding_w = ((w-stride)//(size-stride )+ 1) * (size-stride)+stride\n",
    "        padding_img = np.zeros((padding_h,padding_w,_))\n",
    "        padding_label= np.zeros((padding_h,padding_w))\n",
    "        padding_img[0:h,0:w,:] = image[:,:,:]\n",
    "        padding_label[0:h,0:w] = label_img[:,:]\n",
    "        #b1,b2,b3,b4=cv2.split(padding_img) \n",
    "        #print(np.sum(b1==0))\n",
    "        for i in range((padding_h-stride)//(size-stride)):\n",
    "            for j in range((padding_w-stride)//(size-stride)):\n",
    "                crop = padding_img[i*(size-stride):i*(size-stride)+image_size,j*(size-stride):j*(size-stride)+image_size,:]\n",
    "                sub_label = padding_label[i*(size-stride):i*(size-stride)+image_size,j*(size-stride):j*(size-stride)+image_size]\n",
    "                 \n",
    "                if (np.sum(sub_label==0)!=size*size):\n",
    "                    print(np.sum(sub_label!=0))\n",
    "                    cv2.imwrite(('D:\\Python\\seg-data\\gen_sub_img1/labelV/%d.png' % g_count),sub_label*255)\n",
    "                    np.save('D:\\Python\\seg-data\\gen_sub_img1/src/%d' % g_count,crop)\n",
    "                    cv2.imwrite(('D:\\Python\\seg-data\\gen_sub_img1/label/%d.png' % g_count),sub_label)\n",
    "                    g_count=g_count+1    \n",
    "        "
   ]
  },
  {
   "cell_type": "code",
   "execution_count": 2,
   "metadata": {
    "scrolled": false
   },
   "outputs": [
    {
     "name": "stderr",
     "output_type": "stream",
     "text": [
      "\r",
      "  0%|                                                                                            | 0/3 [00:00<?, ?it/s]"
     ]
    },
    {
     "name": "stdout",
     "output_type": "stream",
     "text": [
      "63007\n",
      "50516\n",
      "42741\n",
      "147235\n",
      "44418\n",
      "69343\n",
      "45743\n",
      "97913\n",
      "45468\n",
      "94\n",
      "85346\n",
      "61161\n",
      "8772\n"
     ]
    },
    {
     "name": "stderr",
     "output_type": "stream",
     "text": [
      "\r",
      " 33%|████████████████████████████                                                        | 1/3 [00:01<00:02,  1.02s/it]"
     ]
    },
    {
     "name": "stdout",
     "output_type": "stream",
     "text": [
      "63007\n",
      "50516\n",
      "42741\n",
      "147235\n",
      "44418\n",
      "69343\n",
      "45743\n",
      "97913\n",
      "45468\n",
      "94\n",
      "85346\n",
      "61161\n",
      "8772\n"
     ]
    },
    {
     "name": "stderr",
     "output_type": "stream",
     "text": [
      "\r",
      " 67%|████████████████████████████████████████████████████████                            | 2/3 [00:02<00:01,  1.06s/it]"
     ]
    },
    {
     "name": "stdout",
     "output_type": "stream",
     "text": [
      "63007\n",
      "50516\n",
      "42741\n",
      "147235\n",
      "44418\n",
      "69343\n",
      "45743\n",
      "97913\n",
      "45468\n",
      "94\n",
      "85346\n",
      "61161\n",
      "8772\n"
     ]
    },
    {
     "name": "stderr",
     "output_type": "stream",
     "text": [
      "100%|████████████████████████████████████████████████████████████████████████████████████| 3/3 [00:03<00:00,  1.26s/it]\n"
     ]
    }
   ],
   "source": [
    "gen_sub_img1()"
   ]
  },
  {
   "cell_type": "code",
   "execution_count": null,
   "metadata": {},
   "outputs": [],
   "source": []
  }
 ],
 "metadata": {
  "kernelspec": {
   "display_name": "Python 3",
   "language": "python",
   "name": "python3"
  },
  "language_info": {
   "codemirror_mode": {
    "name": "ipython",
    "version": 3
   },
   "file_extension": ".py",
   "mimetype": "text/x-python",
   "name": "python",
   "nbconvert_exporter": "python",
   "pygments_lexer": "ipython3",
   "version": "3.6.6"
  }
 },
 "nbformat": 4,
 "nbformat_minor": 2
}
