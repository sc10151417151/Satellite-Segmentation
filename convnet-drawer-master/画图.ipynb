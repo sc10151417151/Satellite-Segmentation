{
 "cells": [
  {
   "cell_type": "code",
   "execution_count": 1,
   "metadata": {},
   "outputs": [],
   "source": [
    "from convnet_drawer import Model, Conv2D, MaxPooling2D, Flatten, Dense\n",
    "from pptx_util import save_model_to_pptx\n",
    "from matplotlib_util import save_model_to_file\n",
    "\n",
    "model = Model(input_shape=(227, 227, 3))\n",
    "model.add(Conv2D(96, (11, 11), (4, 4)))\n",
    "model.add(MaxPooling2D((3, 3), strides=(2, 2)))\n",
    "model.add(Conv2D(256, (5, 5), padding=\"same\"))\n",
    "model.add(MaxPooling2D((3, 3), strides=(2, 2)))\n",
    "model.add(Conv2D(384, (3, 3), padding=\"same\"))\n",
    "model.add(Conv2D(384, (3, 3), padding=\"same\"))\n",
    "model.add(Conv2D(256, (3, 3), padding=\"same\"))\n",
    "model.add(MaxPooling2D((3, 3), strides=(2, 2)))\n",
    "model.add(Flatten())\n",
    "model.add(Dense(4096))\n",
    "model.add(Dense(4096))\n",
    "model.add(Dense(1000))\n",
    "\n",
    "# save as svg file\n",
    "model.save_fig(\"example.svg\")\n",
    "\n",
    "# save as pptx file\n",
    "save_model_to_pptx(model, \"example.pptx\")\n",
    "\n",
    "# save via matplotlib\n",
    "save_model_to_file(model, \"example.pdf\")"
   ]
  },
  {
   "cell_type": "code",
   "execution_count": null,
   "metadata": {},
   "outputs": [],
   "source": []
  }
 ],
 "metadata": {
  "kernelspec": {
   "display_name": "Python 3",
   "language": "python",
   "name": "python3"
  },
  "language_info": {
   "codemirror_mode": {
    "name": "ipython",
    "version": 3
   },
   "file_extension": ".py",
   "mimetype": "text/x-python",
   "name": "python",
   "nbconvert_exporter": "python",
   "pygments_lexer": "ipython3",
   "version": "3.6.6"
  }
 },
 "nbformat": 4,
 "nbformat_minor": 2
}
